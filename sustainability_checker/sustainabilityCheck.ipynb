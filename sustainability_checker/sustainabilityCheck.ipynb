{
 "cells": [
  {
   "cell_type": "code",
   "execution_count": 1,
   "id": "f10612da",
   "metadata": {},
   "outputs": [],
   "source": [
    "import pandas as pd\n",
    "import numpy as np\n",
    "import re\n",
    "import nltk\n",
    "from nltk.corpus import stopwords\n",
    "from nltk.stem import WordNetLemmatizer\n",
    "from sklearn.model_selection import train_test_split\n",
    "from sklearn.preprocessing import OneHotEncoder\n",
    "from sklearn.feature_extraction.text import TfidfVectorizer\n",
    "from sklearn.ensemble import RandomForestRegressor\n",
    "from sklearn.metrics import r2_score, mean_squared_error\n",
    "from collections import Counter"
   ]
  },
  {
   "cell_type": "code",
   "execution_count": 2,
   "id": "d240bee3",
   "metadata": {},
   "outputs": [
    {
     "name": "stderr",
     "output_type": "stream",
     "text": [
      "[nltk_data] Downloading package stopwords to\n",
      "[nltk_data]     C:\\Users\\acer\\AppData\\Roaming\\nltk_data...\n",
      "[nltk_data]   Package stopwords is already up-to-date!\n",
      "[nltk_data] Downloading package wordnet to\n",
      "[nltk_data]     C:\\Users\\acer\\AppData\\Roaming\\nltk_data...\n",
      "[nltk_data]   Package wordnet is already up-to-date!\n",
      "[nltk_data] Downloading package omw-1.4 to\n",
      "[nltk_data]     C:\\Users\\acer\\AppData\\Roaming\\nltk_data...\n"
     ]
    },
    {
     "data": {
      "text/plain": [
       "True"
      ]
     },
     "execution_count": 2,
     "metadata": {},
     "output_type": "execute_result"
    }
   ],
   "source": [
    "nltk.download('stopwords')\n",
    "nltk.download('wordnet')\n",
    "nltk.download('omw-1.4')"
   ]
  },
  {
   "cell_type": "code",
   "execution_count": 3,
   "id": "ca0c4cf5",
   "metadata": {},
   "outputs": [],
   "source": [
    "lemmatizer = WordNetLemmatizer()\n",
    "\n",
    "def cleanResume(txt, stop_words, rare_words, frequent_words):\n",
    "    cleanText = re.sub(r'http\\S+\\s', ' ', txt)  # Remove URLs\n",
    "    cleanText = re.sub(r'RT|cc', ' ', cleanText)  # Remove Retweets and mentions\n",
    "    cleanText = re.sub(r'#\\S+\\s', ' ', cleanText)  # Remove hashtags\n",
    "    cleanText = re.sub(r'@\\S+', ' ', cleanText)  # Remove @mentions\n",
    "    cleanText = cleanText.lower()  # Convert to lowercase\n",
    "    cleanText = cleanText.split()  # Tokenize\n",
    "\n",
    "    # Lemmatize and remove stopwords\n",
    "    cleanText = [lemmatizer.lemmatize(word) for word in cleanText if word not in stop_words and word not in rare_words and word not in frequent_words]\n",
    "    cleanText = ' '.join(cleanText)\n",
    "    \n",
    "    # Remove special characters and non-ASCII characters\n",
    "    cleanText = re.sub(r'[%s]' % re.escape(r\"\"\"!\"#$%&'()*+,-./:;<=>?@[\\]^_{|}~\"\"\"), ' ', cleanText)\n",
    "    cleanText = re.sub(r'[^\\x00-\\x7f]', ' ', cleanText)\n",
    "    cleanText = re.sub(r'\\s+', ' ', cleanText).strip()\n",
    "    \n",
    "    return cleanText\n"
   ]
  },
  {
   "cell_type": "code",
   "execution_count": 2,
   "id": "0365a7aa",
   "metadata": {},
   "outputs": [
    {
     "ename": "SyntaxError",
     "evalue": "(unicode error) 'unicodeescape' codec can't decode bytes in position 2-3: truncated \\UXXXXXXXX escape (920007141.py, line 3)",
     "output_type": "error",
     "traceback": [
      "\u001b[1;36m  Cell \u001b[1;32mIn[2], line 3\u001b[1;36m\u001b[0m\n\u001b[1;33m    df = pd.read_csv(\"C:\\Users\\acer\\OneDrive\\Desktop\\PBL-Cloud 4th sem\\CLOUD-3-SEMESTER\\sustainability checkeker\\Updated_Resume_Screening.xlsx\")  # Update with actual path\u001b[0m\n\u001b[1;37m                     ^\u001b[0m\n\u001b[1;31mSyntaxError\u001b[0m\u001b[1;31m:\u001b[0m (unicode error) 'unicodeescape' codec can't decode bytes in position 2-3: truncated \\UXXXXXXXX escape\n"
     ]
    }
   ],
   "source": [
    "# Load Data\n",
    "# ----------------------------\n",
    "df = pd.read_csv(\"C:\\Users\\acer\\OneDrive\\Desktop\\PBL-Cloud 4th sem\\CLOUD-3-SEMESTER\\sustainability checkeker\\Updated_Resume_Screening.xlsx\")  # Update with actual path\n",
    "df.dropna(inplace=True)  # Drop missing row"
   ]
  },
  {
   "cell_type": "code",
   "execution_count": null,
   "id": "3100e957",
   "metadata": {},
   "outputs": [],
   "source": []
  }
 ],
 "metadata": {
  "kernelspec": {
   "display_name": "Python 3",
   "language": "python",
   "name": "python3"
  },
  "language_info": {
   "codemirror_mode": {
    "name": "ipython",
    "version": 3
   },
   "file_extension": ".py",
   "mimetype": "text/x-python",
   "name": "python",
   "nbconvert_exporter": "python",
   "pygments_lexer": "ipython3",
   "version": "3.12.6"
  }
 },
 "nbformat": 4,
 "nbformat_minor": 5
}
